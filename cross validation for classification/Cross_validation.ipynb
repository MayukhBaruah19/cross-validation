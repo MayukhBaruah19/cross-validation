{
 "cells": [
  {
   "cell_type": "code",
   "execution_count": 1,
   "id": "f8e530f1-03ab-481a-8a64-9e62e2799772",
   "metadata": {},
   "outputs": [],
   "source": [
    "import pandas as pd \n",
    "import numpy as np "
   ]
  },
  {
   "cell_type": "code",
   "execution_count": 2,
   "id": "0d665102-41ad-4fa3-9c69-a75916c34e30",
   "metadata": {},
   "outputs": [
    {
     "data": {
      "text/html": [
       "<div>\n",
       "<style scoped>\n",
       "    .dataframe tbody tr th:only-of-type {\n",
       "        vertical-align: middle;\n",
       "    }\n",
       "\n",
       "    .dataframe tbody tr th {\n",
       "        vertical-align: top;\n",
       "    }\n",
       "\n",
       "    .dataframe thead th {\n",
       "        text-align: right;\n",
       "    }\n",
       "</style>\n",
       "<table border=\"1\" class=\"dataframe\">\n",
       "  <thead>\n",
       "    <tr style=\"text-align: right;\">\n",
       "      <th></th>\n",
       "      <th>Gender</th>\n",
       "      <th>Married</th>\n",
       "      <th>Dependents</th>\n",
       "      <th>Education</th>\n",
       "      <th>Self_Employed</th>\n",
       "      <th>ApplicantIncome</th>\n",
       "      <th>CoapplicantIncome</th>\n",
       "      <th>LoanAmount</th>\n",
       "      <th>Loan_Amount_Term</th>\n",
       "      <th>Credit_History</th>\n",
       "      <th>Property_Area</th>\n",
       "      <th>Loan_Status</th>\n",
       "    </tr>\n",
       "  </thead>\n",
       "  <tbody>\n",
       "    <tr>\n",
       "      <th>0</th>\n",
       "      <td>1</td>\n",
       "      <td>1</td>\n",
       "      <td>1</td>\n",
       "      <td>1</td>\n",
       "      <td>0</td>\n",
       "      <td>4583</td>\n",
       "      <td>1508.0</td>\n",
       "      <td>128.0</td>\n",
       "      <td>360.0</td>\n",
       "      <td>1.0</td>\n",
       "      <td>0</td>\n",
       "      <td>0</td>\n",
       "    </tr>\n",
       "    <tr>\n",
       "      <th>1</th>\n",
       "      <td>1</td>\n",
       "      <td>1</td>\n",
       "      <td>0</td>\n",
       "      <td>1</td>\n",
       "      <td>1</td>\n",
       "      <td>3000</td>\n",
       "      <td>0.0</td>\n",
       "      <td>66.0</td>\n",
       "      <td>360.0</td>\n",
       "      <td>1.0</td>\n",
       "      <td>2</td>\n",
       "      <td>1</td>\n",
       "    </tr>\n",
       "    <tr>\n",
       "      <th>2</th>\n",
       "      <td>1</td>\n",
       "      <td>1</td>\n",
       "      <td>0</td>\n",
       "      <td>0</td>\n",
       "      <td>0</td>\n",
       "      <td>2583</td>\n",
       "      <td>2358.0</td>\n",
       "      <td>120.0</td>\n",
       "      <td>360.0</td>\n",
       "      <td>1.0</td>\n",
       "      <td>2</td>\n",
       "      <td>1</td>\n",
       "    </tr>\n",
       "    <tr>\n",
       "      <th>3</th>\n",
       "      <td>1</td>\n",
       "      <td>0</td>\n",
       "      <td>0</td>\n",
       "      <td>1</td>\n",
       "      <td>0</td>\n",
       "      <td>6000</td>\n",
       "      <td>0.0</td>\n",
       "      <td>141.0</td>\n",
       "      <td>360.0</td>\n",
       "      <td>1.0</td>\n",
       "      <td>2</td>\n",
       "      <td>1</td>\n",
       "    </tr>\n",
       "    <tr>\n",
       "      <th>4</th>\n",
       "      <td>1</td>\n",
       "      <td>1</td>\n",
       "      <td>2</td>\n",
       "      <td>1</td>\n",
       "      <td>1</td>\n",
       "      <td>5417</td>\n",
       "      <td>4196.0</td>\n",
       "      <td>267.0</td>\n",
       "      <td>360.0</td>\n",
       "      <td>1.0</td>\n",
       "      <td>2</td>\n",
       "      <td>1</td>\n",
       "    </tr>\n",
       "  </tbody>\n",
       "</table>\n",
       "</div>"
      ],
      "text/plain": [
       "   Gender  Married  Dependents  Education  Self_Employed  ApplicantIncome  \\\n",
       "0       1        1           1          1              0             4583   \n",
       "1       1        1           0          1              1             3000   \n",
       "2       1        1           0          0              0             2583   \n",
       "3       1        0           0          1              0             6000   \n",
       "4       1        1           2          1              1             5417   \n",
       "\n",
       "   CoapplicantIncome  LoanAmount  Loan_Amount_Term  Credit_History  \\\n",
       "0             1508.0       128.0             360.0             1.0   \n",
       "1                0.0        66.0             360.0             1.0   \n",
       "2             2358.0       120.0             360.0             1.0   \n",
       "3                0.0       141.0             360.0             1.0   \n",
       "4             4196.0       267.0             360.0             1.0   \n",
       "\n",
       "   Property_Area  Loan_Status  \n",
       "0              0            0  \n",
       "1              2            1  \n",
       "2              2            1  \n",
       "3              2            1  \n",
       "4              2            1  "
      ]
     },
     "execution_count": 2,
     "metadata": {},
     "output_type": "execute_result"
    }
   ],
   "source": [
    "data=pd.read_csv('new_loan1.csv')\n",
    "data.head()"
   ]
  },
  {
   "cell_type": "code",
   "execution_count": 5,
   "id": "a798314b-5117-4a2a-9da5-8f9e135a0566",
   "metadata": {},
   "outputs": [
    {
     "data": {
      "text/plain": [
       "(480, 12)"
      ]
     },
     "execution_count": 5,
     "metadata": {},
     "output_type": "execute_result"
    }
   ],
   "source": [
    "data.shape"
   ]
  },
  {
   "cell_type": "code",
   "execution_count": 4,
   "id": "a458ff3a-36f4-4f90-abd0-9dd2ba9070c4",
   "metadata": {},
   "outputs": [
    {
     "data": {
      "text/plain": [
       "Gender               0\n",
       "Married              0\n",
       "Dependents           0\n",
       "Education            0\n",
       "Self_Employed        0\n",
       "ApplicantIncome      0\n",
       "CoapplicantIncome    0\n",
       "LoanAmount           0\n",
       "Loan_Amount_Term     0\n",
       "Credit_History       0\n",
       "Property_Area        0\n",
       "Loan_Status          0\n",
       "dtype: int64"
      ]
     },
     "execution_count": 4,
     "metadata": {},
     "output_type": "execute_result"
    }
   ],
   "source": [
    "data.isnull().sum()"
   ]
  },
  {
   "cell_type": "code",
   "execution_count": 6,
   "id": "cc6487db-d30c-4632-ac27-357147d07111",
   "metadata": {},
   "outputs": [
    {
     "data": {
      "text/plain": [
       "Loan_Status\n",
       "1    332\n",
       "0    148\n",
       "Name: count, dtype: int64"
      ]
     },
     "execution_count": 6,
     "metadata": {},
     "output_type": "execute_result"
    }
   ],
   "source": [
    "data['Loan_Status'].value_counts()"
   ]
  },
  {
   "cell_type": "markdown",
   "id": "108bc8fa-15c3-46fd-a9c5-cb72bc3cc978",
   "metadata": {},
   "source": [
    "## Using train_test_split"
   ]
  },
  {
   "cell_type": "code",
   "execution_count": 8,
   "id": "60f8877d-4063-4559-bea8-49045f7f7602",
   "metadata": {},
   "outputs": [],
   "source": [
    "X=data.drop(['Loan_Status'],axis=1)\n",
    "y=data['Loan_Status']"
   ]
  },
  {
   "cell_type": "code",
   "execution_count": 9,
   "id": "4717151a-f6f8-4a9b-a7d1-e330782655ca",
   "metadata": {},
   "outputs": [],
   "source": [
    "from sklearn.model_selection import train_test_split\n",
    "X_train,X_test,y_train,y_test=train_test_split(X,y,test_size=0.2,stratify=y,random_state=3)"
   ]
  },
  {
   "cell_type": "code",
   "execution_count": 11,
   "id": "7757e589-d755-45cc-b52c-f6c07b910c33",
   "metadata": {},
   "outputs": [],
   "source": [
    "## importing models\n",
    "from sklearn.linear_model import LogisticRegression\n",
    "from sklearn.svm import SVC\n",
    "from sklearn.neighbors import KNeighborsClassifier\n",
    "from sklearn.ensemble import RandomForestClassifier\n",
    "from sklearn.metrics import accuracy_score"
   ]
  },
  {
   "cell_type": "code",
   "execution_count": 12,
   "id": "1bfdd1f3-5f79-472d-b872-b35eb54bf521",
   "metadata": {},
   "outputs": [],
   "source": [
    "##list of models\n",
    "models=[LogisticRegression(max_iter=1000),SVC(kernel='linear'),KNeighborsClassifier(),RandomForestClassifier()]"
   ]
  },
  {
   "cell_type": "code",
   "execution_count": 13,
   "id": "adc52ba1-ac3d-4ece-a77b-ad6eaaf7c3db",
   "metadata": {},
   "outputs": [],
   "source": [
    "def compare_models_train_test():\n",
    "    for model in models:\n",
    "        #tranning the model\n",
    "        model.fit(X_train,y_train)\n",
    "        #evaluating the model\n",
    "        test_data_prediction=model.predict(X_test)\n",
    "        accuracy=accuracy_score(y_test,test_data_prediction)\n",
    "        print('Accuracy Score of the ',model,'=',accuracy)"
   ]
  },
  {
   "cell_type": "code",
   "execution_count": 14,
   "id": "4ac09078-adf7-4c9b-8256-1d2f0c21452c",
   "metadata": {},
   "outputs": [
    {
     "name": "stdout",
     "output_type": "stream",
     "text": [
      "Accuracy Score of the  LogisticRegression(max_iter=1000) = 0.8125\n",
      "Accuracy Score of the  SVC(kernel='linear') = 0.7916666666666666\n",
      "Accuracy Score of the  KNeighborsClassifier() = 0.625\n",
      "Accuracy Score of the  RandomForestClassifier() = 0.7604166666666666\n"
     ]
    }
   ],
   "source": [
    "compare_models_train_test()"
   ]
  },
  {
   "cell_type": "markdown",
   "id": "7030fccf-1801-4f7c-b847-383c5e889e98",
   "metadata": {},
   "source": [
    "## Using cross validation"
   ]
  },
  {
   "cell_type": "code",
   "execution_count": 15,
   "id": "b11f4585-85c9-427c-8d65-13f65320bb3a",
   "metadata": {},
   "outputs": [],
   "source": [
    "from sklearn.model_selection import cross_val_score"
   ]
  },
  {
   "cell_type": "code",
   "execution_count": 16,
   "id": "05f2e2a9-09e9-4005-aa38-78631a55eeb1",
   "metadata": {},
   "outputs": [],
   "source": [
    "models=[LogisticRegression(max_iter=1000),SVC(kernel='linear'),KNeighborsClassifier(),RandomForestClassifier()]"
   ]
  },
  {
   "cell_type": "code",
   "execution_count": 17,
   "id": "53be8461-7a2d-456f-aebc-84dda18b4dde",
   "metadata": {},
   "outputs": [],
   "source": [
    "def compare_models_cross_validation():\n",
    "  for model in models:\n",
    "    cv_score = cross_val_score(model, X,y, cv=5)\n",
    "    mean_accuracy = sum(cv_score)/len(cv_score)\n",
    "    mean_accuracy = mean_accuracy*100\n",
    "    mean_accuracy = round(mean_accuracy, 2)\n",
    "    print('Cross Validation accuracies for ', model, '=  ', cv_score)\n",
    "    print('Accuracy % of the ', model, mean_accuracy)\n",
    "    print('--------------------------')"
   ]
  },
  {
   "cell_type": "code",
   "execution_count": 18,
   "id": "c597d83d-3456-40ea-b8f1-dd42375bc4a2",
   "metadata": {},
   "outputs": [
    {
     "name": "stdout",
     "output_type": "stream",
     "text": [
      "Cross Validation accuracies for  LogisticRegression(max_iter=1000) =   [0.80208333 0.78125    0.77083333 0.86458333 0.80208333]\n",
      "Accuracy % of the  LogisticRegression(max_iter=1000) 80.42\n",
      "--------------------------\n",
      "Cross Validation accuracies for  SVC(kernel='linear') =   [0.79166667 0.78125    0.76041667 0.82291667 0.71875   ]\n",
      "Accuracy % of the  SVC(kernel='linear') 77.5\n",
      "--------------------------\n",
      "Cross Validation accuracies for  KNeighborsClassifier() =   [0.67708333 0.67708333 0.66666667 0.58333333 0.64583333]\n",
      "Accuracy % of the  KNeighborsClassifier() 65.0\n",
      "--------------------------\n",
      "Cross Validation accuracies for  RandomForestClassifier() =   [0.8125     0.76041667 0.80208333 0.82291667 0.8125    ]\n",
      "Accuracy % of the  RandomForestClassifier() 80.21\n",
      "--------------------------\n"
     ]
    }
   ],
   "source": [
    "compare_models_cross_validation()"
   ]
  },
  {
   "cell_type": "code",
   "execution_count": null,
   "id": "4196a3e9-e9a1-4839-b221-26caa84c0073",
   "metadata": {},
   "outputs": [],
   "source": []
  },
  {
   "cell_type": "code",
   "execution_count": null,
   "id": "dd9bb7d0-f2a2-47a8-95c7-71b8234e40df",
   "metadata": {},
   "outputs": [],
   "source": []
  },
  {
   "cell_type": "code",
   "execution_count": null,
   "id": "fa28bc3f-1919-4204-a477-a2ecb99c1b09",
   "metadata": {},
   "outputs": [],
   "source": []
  },
  {
   "cell_type": "code",
   "execution_count": null,
   "id": "6c43cbb8-bf9a-4c28-8ec3-9cb6b188c84a",
   "metadata": {},
   "outputs": [],
   "source": []
  }
 ],
 "metadata": {
  "kernelspec": {
   "display_name": "Python 3 (ipykernel)",
   "language": "python",
   "name": "python3"
  },
  "language_info": {
   "codemirror_mode": {
    "name": "ipython",
    "version": 3
   },
   "file_extension": ".py",
   "mimetype": "text/x-python",
   "name": "python",
   "nbconvert_exporter": "python",
   "pygments_lexer": "ipython3",
   "version": "3.11.4"
  }
 },
 "nbformat": 4,
 "nbformat_minor": 5
}
